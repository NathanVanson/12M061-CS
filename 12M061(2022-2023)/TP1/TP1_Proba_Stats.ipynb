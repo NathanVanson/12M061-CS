{
 "cells": [
  {
   "cell_type": "markdown",
   "metadata": {},
   "source": [
    "### Université de Genève - Section de Mathématiques\n",
    "\n",
    "## Probabilités et Statiques pour Informaticiens 2022 : TP1"
   ]
  },
  {
   "cell_type": "markdown",
   "metadata": {},
   "source": [
    "---\n",
    "\n",
    "* **Exercice Choisi** : Exercice 2 -> Lancé de dés\n",
    "\n",
    "* **Groupes** : Nathan Vanson, Léonie Dezempte, Mohammad Massi Rashidi.\n",
    "\n",
    "---"
   ]
  },
  {
   "cell_type": "code",
   "execution_count": 92,
   "metadata": {},
   "outputs": [],
   "source": [
    "# Librairies :\n",
    "import random\n",
    "import numpy"
   ]
  },
  {
   "cell_type": "markdown",
   "metadata": {},
   "source": [
    "### Exercice 2 : Lancé de dés\n",
    "\n",
    "* On lance trois dés distincts et équilibrés. On note A l'évènement *<< les numéros sont égaux >>*, B : *<< au  moins un des numéros est égal à 3 >>* et C : *<< la somme des numéros est égale à 4 >>*.  \n",
    "\n",
    "1) Ecrire une fonction qui simule cette expérience et qui renvoie **True** si l'évènement A se produit, et **False** sinon."
   ]
  },
  {
   "cell_type": "code",
   "execution_count": 93,
   "metadata": {},
   "outputs": [],
   "source": [
    "def roll_dice(num_dice):\n",
    "  \"\"\"Renvoi une liste de taille `num_dice` de nombre aleatoires entre 1 et 6\"\"\"\n",
    "  return [random.randint(1, 6) for _ in range(num_dice)]"
   ]
  },
  {
   "cell_type": "code",
   "execution_count": 94,
   "metadata": {},
   "outputs": [
    {
     "name": "stdout",
     "output_type": "stream",
     "text": [
      "[3, 3, 2]\n",
      "False\n"
     ]
    }
   ],
   "source": [
    "def question1(roll_res):\n",
    "  \"\"\"Renvoi vrai si tout les élements de la liste sont identiques\"\"\"\n",
    "  return all(el == roll_res[0] for el in roll_res)\n",
    "\n",
    "# Test de la fonction \n",
    "\n",
    "roll=roll_dice(3)\n",
    "print(roll)\n",
    "print(question1(roll))"
   ]
  },
  {
   "cell_type": "markdown",
   "metadata": {},
   "source": [
    "2) Ecrire une fonction qui simule cette expérience et qui renvoie **True** si l'évènement B se produit, et **False** sinon."
   ]
  },
  {
   "cell_type": "code",
   "execution_count": 95,
   "metadata": {},
   "outputs": [
    {
     "name": "stdout",
     "output_type": "stream",
     "text": [
      "[6, 2, 5]\n",
      "False\n"
     ]
    }
   ],
   "source": [
    "def question2(roll_res, n=3):\n",
    "  \"\"\"Renvoi vrai si au moins un des élements est égal a 3\"\"\"\n",
    "  return any(el == n for el in roll_res)\n",
    "\n",
    "# Test de la fonction\n",
    "\n",
    "roll=roll_dice(3)\n",
    "print(roll)\n",
    "print(question2(roll))"
   ]
  },
  {
   "cell_type": "markdown",
   "metadata": {},
   "source": [
    "3) Ecrire une fonction qui simule cette expérience et qui renvoie **True** si l'èvenement C se produit, et **False** sinon."
   ]
  },
  {
   "cell_type": "code",
   "execution_count": 96,
   "metadata": {},
   "outputs": [
    {
     "name": "stdout",
     "output_type": "stream",
     "text": [
      "[1, 5, 4]\n",
      "False\n"
     ]
    }
   ],
   "source": [
    "def question3(roll_res, n=4):\n",
    "  \"\"\"Test si la somme des elements de la liste est égale a 4\"\"\"\n",
    "  return n == numpy.sum(roll_res)\n",
    "\n",
    "# Test de la fonction\n",
    "\n",
    "roll=roll_dice(3)\n",
    "print(roll)\n",
    "print(question3(roll))"
   ]
  },
  {
   "cell_type": "markdown",
   "metadata": {},
   "source": [
    "4) En déduire une fonction qui renvoie **True** si un des trois évènements A, B ou C se produit, et **False** sinon."
   ]
  },
  {
   "cell_type": "code",
   "execution_count": 97,
   "metadata": {},
   "outputs": [
    {
     "name": "stdout",
     "output_type": "stream",
     "text": [
      "False\n"
     ]
    }
   ],
   "source": [
    "def question4(roll_res):\n",
    "  \"\"\"Test si l'un des 3 évenements se produit ou non\"\"\"\n",
    "  #print(roll_res)\n",
    "  return (question1(roll_res) or question2(roll_res) or question3(roll_res))\n",
    "    \n",
    "\n",
    "# Test de la fonction \n",
    "\n",
    "print(question4(roll_dice(3)))"
   ]
  },
  {
   "cell_type": "markdown",
   "metadata": {},
   "source": [
    "5) Calculer (théoriquement) $P(A \\cup B \\cup C)$. En répétant un grand nombre de fois l'expérience numérique précédente, vérifier qu'on retrouve bien le résultat attendu."
   ]
  },
  {
   "cell_type": "markdown",
   "metadata": {},
   "source": [
    "* Calculons théoriquement $P(A \\cup B \\cup C)$, pour cela on doit procéder en plusieurs étapes :\n",
    "\n",
    "    * Calculons d'abord les différentes probabilités :\n",
    "\n",
    "        Soit $\\Omega = [{1, 2, 3, 4, 5, 6}]^3$ représentant 3 dés distincts et équilibrés. On alors que $\\lvert \\Omega \\rvert = 6^3 = 216$. \n",
    "        \n",
    "        * Soit $A$, l'évenement : *<<les numéros sont égaux>>*, on a alors **6** issues possibles ce qui implique que $\\lvert A \\rvert = 6$. De ce fait : $P(A) = (\\lvert A \\rvert)/(\\lvert \\Omega \\rvert) = 6/216 \\approx 0.028$\n",
    "\n",
    "        * Soit $B$, l'évenement : *<<Au moins un des numéros est égale à 3>>*, par l'intermédiaire d'un calcul informatique, on obtient $P(B) \\approx 0.4$ (car c'est beaucoup trop long de tester toute les possibilités à la main)\n",
    "\n",
    "        * Soit $C$, l'évenement : *<<La somme des numéros est égale à 4>>*, on a alors **3** issues possibles, ce qui implique que $\\lvert C \\rvert = 3$. De ce fait : $P(C) = (\\lvert C \\rvert)/(\\lvert \\Omega \\rvert) = 3/216 \\approx 0.014$\n",
    "\n",
    "        * De plus, $A$ et $C$; et $B$ et $C$ sont **incompatibles** entre eux, on a par conséquent respectivement : $P(A \\cap C) = P(B \\cap C) = 0$\n",
    "\n",
    "        * De même, on a que : $P(A \\cap B \\cap C) = 0$\n",
    "\n",
    "        * Et enfin, $P(A \\cap B) = 1/216$. En effet, la seule issue possible est qu'on obtient la série de lancement suivant : $(3, 3, 3)$\n",
    "\n",
    "    * De plus, il suit du **théorème 1.15** du cours que :\n",
    "\n",
    "        $P(A \\cup B) = P(A) + P(B) - P(A \\cap B)$\n",
    "\n",
    "        On en déduit donc que :\n",
    "\n",
    "        $P(A \\cup B \\cup C) = P(A) + P(B) + P(C) - P(A \\cap B) - P(A \\cap C) - P(B \\cap C) + P(A \\cap B \\cap C)$\n",
    "\n",
    "        Et, en remplacant le tout par les données trouvées, on obtient :\n",
    "\n",
    "        $P(A \\cup B \\cup C) = 0.028 + 0.4 + 0.014 - (1/216) - 0 - 0 + 0 = 0.442 - (1/216) \\approx 0.437$"
   ]
  },
  {
   "cell_type": "markdown",
   "metadata": {},
   "source": [
    "* On peut alors simuler l'expérience numérique précédente, ce qui nous permet d'en déduire qu'on retrouve approximativement un résultat similaire :"
   ]
  },
  {
   "cell_type": "code",
   "execution_count": 98,
   "metadata": {},
   "outputs": [
    {
     "name": "stdout",
     "output_type": "stream",
     "text": [
      "0.463\n"
     ]
    }
   ],
   "source": [
    "def question5(n):\n",
    "    \"\"\"Renvoie la probabilité de la fonction question4 après 'n' essais\"\"\"\n",
    "    c = 0\n",
    "    for _ in range(n):\n",
    "        res = question4(roll_dice(3))\n",
    "        if res :\n",
    "            c += 1\n",
    "    return c/n\n",
    "\n",
    "# Test de la fonction\n",
    "# Exemple avec n = 1000\n",
    "\n",
    "print(question5(1000))"
   ]
  },
  {
   "cell_type": "markdown",
   "metadata": {},
   "source": [
    "---"
   ]
  }
 ],
 "metadata": {
  "kernelspec": {
   "display_name": "Python 3.10.6 64-bit",
   "language": "python",
   "name": "python3"
  },
  "language_info": {
   "codemirror_mode": {
    "name": "ipython",
    "version": 3
   },
   "file_extension": ".py",
   "mimetype": "text/x-python",
   "name": "python",
   "nbconvert_exporter": "python",
   "pygments_lexer": "ipython3",
   "version": "3.10.6 (tags/v3.10.6:9c7b4bd, Aug  1 2022, 21:53:49) [MSC v.1932 64 bit (AMD64)]"
  },
  "orig_nbformat": 4,
  "vscode": {
   "interpreter": {
    "hash": "26de051ba29f2982a8de78e945f0abaf191376122a1563185a90213a26c5da77"
   }
  }
 },
 "nbformat": 4,
 "nbformat_minor": 2
}
