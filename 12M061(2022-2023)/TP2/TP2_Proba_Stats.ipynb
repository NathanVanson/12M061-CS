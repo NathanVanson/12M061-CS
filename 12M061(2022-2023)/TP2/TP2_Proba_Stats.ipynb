{
 "cells": [
  {
   "cell_type": "markdown",
   "metadata": {},
   "source": [
    "### Université de Genève - Section de Mathématiques\n",
    "\n",
    "## Probabilités et Statiques pour Informaticiens 2022 : TP2"
   ]
  },
  {
   "cell_type": "markdown",
   "metadata": {},
   "source": [
    "---\n",
    "\n",
    "* **Exercice Choisi** : Exercice 2 -> Battage de cartes par le riffle shuffle\n",
    "\n",
    "* **Groupes** : Nathan Vanson\n",
    "\n",
    "---"
   ]
  },
  {
   "cell_type": "code",
   "execution_count": 36,
   "metadata": {},
   "outputs": [],
   "source": [
    "# Librairies :\n",
    "import random\n",
    "import numpy as np"
   ]
  },
  {
   "cell_type": "markdown",
   "metadata": {},
   "source": [
    "### Exercice 2 : Battage de cartes par le riffle shuffle"
   ]
  },
  {
   "cell_type": "markdown",
   "metadata": {},
   "source": [
    "1. Ecrire une fonction **RS** qui s'applique à un objet de type list, appelé **J** (il sera pratique de supposer que **J** ne contient que des valeurs 2 à 2 distinctes), qui renvoie un objet de type **list**, appelé **R**, correspondant à un riffle shuffle appliqué à **J** (**R** contient les mêmes éléments que **J** mais dans un autre ordre)."
   ]
  },
  {
   "cell_type": "code",
   "execution_count": 37,
   "metadata": {},
   "outputs": [
    {
     "name": "stdout",
     "output_type": "stream",
     "text": [
      "[9, 8, 7, 4, 3, 2, 1, 6, 5]\n"
     ]
    }
   ],
   "source": [
    "def RS(J: list) -> list:\n",
    "    R = []\n",
    "    # Etape 1\n",
    "    n = len(J)\n",
    "    k = np.random.binomial(n, 1/2)\n",
    "    split1 = J[:k]\n",
    "    split2 = J[k:]\n",
    "    \n",
    "    # Etape 2\n",
    "    while split1 or split2: # Jusqu'à épuisement des 2 paquets\n",
    "      n1 = len(split1) # Taille de split1\n",
    "      n2 = len(split2) # Taille de split2\n",
    "\n",
    "      p1 = n1/(n1+n2) # Probabilité de choisir dans split1\n",
    "      p2 = n2/(n1+n2) # Probabilité de choisir dans split2\n",
    "\n",
    "      chosen_list = np.random.choice(['split1', 'split2'], p=[p1, p2]) # Choisi un des deux paquets selon la proba\n",
    "      if chosen_list == 'split1':\n",
    "        popped = split1.pop()\n",
    "        R.append(popped) # Ajoute le premier element de split1 dans R\n",
    "      elif chosen_list == 'split2':\n",
    "        popped = split2.pop()\n",
    "        R.append(popped) # Ajoute le premier element de split2 dans R\n",
    "    \n",
    "    return R\n",
    "\n",
    "# ---------- TEST ---------- #\n",
    "testList = [1, 2, 3, 4, 5, 6, 7, 8, 9]\n",
    "print(RS(testList))\n",
    "# -------------------------- #"
   ]
  },
  {
   "cell_type": "markdown",
   "metadata": {},
   "source": [
    "2. Ecrire une fonction **Trajectoire** qui s'applique à un objet de type **list**, appelé **J0** et à un **int** appelé **T**, qui renvoie un objet de type **list**, de longueur **T+1**, dont le premier élément est **J0** et dont les éléments se déduisent successivement les uns des autres par application de **RS**."
   ]
  },
  {
   "cell_type": "code",
   "execution_count": 38,
   "metadata": {},
   "outputs": [
    {
     "name": "stdout",
     "output_type": "stream",
     "text": [
      "[[1, 2, 3, 4], [2, 4, 3, 1], [3, 4, 1, 2], [2, 1, 3, 4], [4, 3, 2, 1], [1, 4, 2, 3], [3, 2, 4, 1], [1, 4, 2, 3], [4, 3, 2, 1]]\n"
     ]
    }
   ],
   "source": [
    "def Trajectoire(J0: list, T: int) -> list:\n",
    "    tab = [J0]\n",
    "    for i in range(T): # Et non pas T+1 car J0 est le premier élément de la liste\n",
    "        tab.append(RS(tab[i]))\n",
    "    return tab\n",
    "\n",
    "# ---------- TEST ---------- #\n",
    "testList2 = [1, 2, 3, 4]\n",
    "T = 8\n",
    "print(Trajectoire(testList2, T))\n",
    "# ---------- TEST ---------- #"
   ]
  },
  {
   "cell_type": "markdown",
   "metadata": {},
   "source": [
    "3. On a donc une fonction qui, à un ordre initial, que l'on choisira ```python: J0=range(n)```, pour $n = 52$, associe la suite $J0, J1 = RS(J0),...,J_(t-1) = RS(J_t),...,J_T$, de ses riffle shuffle successifs. On cherche à mesurer comment la loi de $J_t$ se rapproche de la loi uniforme sur l'ensemble des permutations de {$0,...,n-1$} lorsque $t$ augmente. Si la loi de $J_t$ était la loi uniforme sur l'ensemble des permutations de {$0,...,n-1$}, alors la loi de chaque coordonnée de $J_t(k)$ serait la loi uniforme sur {$0,...,n-1$}, càd que l'on aurait, pour tous $k$, $i$,\n",
    "\n",
    "$$\\mathbb{P}(J_t(k) = i) = \\frac{1}{n}$$\n",
    "\n",
    "On va alors mesurer le caractère uniforme de la distribution de $J_t$ avec l'indicateur :\n",
    "\n",
    "$$I(J_t) := \\max(\\lvert n*P(J_t(k) = i) -1 \\rvert, (k, i) \\in (0,...,n-1)^2)$$\n",
    "\n",
    "Calculer, pour $n = 52$, $T = 10$, une estimation de $\\hat{I}(J_t)$ pour $t \\in (0,...,T)$, afficher le graphe de $\\hat{I}(J_t)$ en fonction de $t$ et donner le t minimal permettant d'avoir $I(J_t) < 1$ (si un tel $t$ est trouvé).\n",
    "\n",
    "*Indication :* Pour estimer $\\mathbb{P}(J_t(k) = i)$, on simulera un grand nombre de trajectoires et on pourra utiliser, par exemple, la fonction ```python: np.bincount```."
   ]
  },
  {
   "cell_type": "code",
   "execution_count": 54,
   "metadata": {},
   "outputs": [
    {
     "name": "stdout",
     "output_type": "stream",
     "text": [
      "[1 1 1 1 1 1 1 1 1 1 1 1 1 1 1 1 1 1 1 1 1 1 1 1 1 1 1 1 1 1 1 1 1 1 1 1 1\n",
      " 1 1 1 1 1 1 1 1 1 1 1 1 1 1 1]\n"
     ]
    }
   ],
   "source": [
    "# Indication : np.bincount\n",
    "\n",
    "n = 52\n",
    "J0 = list(range(n))\n",
    "shuffle = Trajectoire(J0, 10)\n",
    "#print(shuffle)\n",
    "\n",
    "test = np.bincount(shuffle[0])\n",
    "print(test)"
   ]
  },
  {
   "cell_type": "markdown",
   "metadata": {},
   "source": [
    "4. Pour $J_(unif)$ une permutation aléatoire uniforme de ```python: J0=range(n)```, on a $I(J_(unif)) = 0$. Néanmoins, ce à quoi il est légitime de comparer les estimations $\\hat{I}(J_t)$ n'est pas $I(J_(unif))$ mais l'estimation $\\hat{I}(J_(unif))$ obtenue avec un échantillon de même taille de permutations aléatoires uniformes indépendantes. Dans le même programme, calculer cette estimation $\\hat{I}(J_(unif))$ et faire apparaître, sur le graphique précédent, une ligne horizontale d'ordonnée $\\hat{I}(J_(unif))$.\n",
    "\n",
    "*Indication :* Pour simuler des permutations aléatoires uniformes indépendantes, on pourra utiliser ```python: np.randon.shuffle```."
   ]
  },
  {
   "cell_type": "code",
   "execution_count": 40,
   "metadata": {},
   "outputs": [],
   "source": [
    "# Indication : np.random.shuffle"
   ]
  }
 ],
 "metadata": {
  "kernelspec": {
   "display_name": "Python 3",
   "language": "python",
   "name": "python3"
  },
  "language_info": {
   "codemirror_mode": {
    "name": "ipython",
    "version": 3
   },
   "file_extension": ".py",
   "mimetype": "text/x-python",
   "name": "python",
   "nbconvert_exporter": "python",
   "pygments_lexer": "ipython3",
   "version": "3.10.6 (tags/v3.10.6:9c7b4bd, Aug  1 2022, 21:53:49) [MSC v.1932 64 bit (AMD64)]"
  },
  "orig_nbformat": 4,
  "vscode": {
   "interpreter": {
    "hash": "26de051ba29f2982a8de78e945f0abaf191376122a1563185a90213a26c5da77"
   }
  }
 },
 "nbformat": 4,
 "nbformat_minor": 2
}
