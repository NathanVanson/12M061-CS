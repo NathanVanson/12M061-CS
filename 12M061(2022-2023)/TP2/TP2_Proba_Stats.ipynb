{
 "cells": [
  {
   "cell_type": "markdown",
   "metadata": {},
   "source": [
    "### Université de Genève - Section de Mathématiques\n",
    "\n",
    "## Probabilités et Statiques pour Informaticiens 2022 : TP2"
   ]
  },
  {
   "cell_type": "markdown",
   "metadata": {},
   "source": [
    "---\n",
    "\n",
    "* **Exercice Choisi** : Exercice 2 -> Battage de cartes par le riffle shuffle\n",
    "\n",
    "* **Groupes** : Nathan Vanson\n",
    "\n",
    "---"
   ]
  },
  {
   "cell_type": "code",
   "execution_count": 1,
   "metadata": {},
   "outputs": [],
   "source": [
    "# Librairies :\n",
    "import random\n",
    "import numpy as np\n",
    "import matplotlib.pyplot as plt"
   ]
  },
  {
   "attachments": {},
   "cell_type": "markdown",
   "metadata": {},
   "source": [
    "---"
   ]
  },
  {
   "cell_type": "markdown",
   "metadata": {},
   "source": [
    "### Exercice 2 : Battage de cartes par le riffle shuffle"
   ]
  },
  {
   "cell_type": "markdown",
   "metadata": {},
   "source": [
    "1. Ecrire une fonction **RS** qui s'applique à un objet de type list, appelé **J** (il sera pratique de supposer que **J** ne contient que des valeurs 2 à 2 distinctes), qui renvoie un objet de type **list**, appelé **R**, correspondant à un riffle shuffle appliqué à **J** (**R** contient les mêmes éléments que **J** mais dans un autre ordre)."
   ]
  },
  {
   "cell_type": "code",
   "execution_count": 2,
   "metadata": {},
   "outputs": [
    {
     "name": "stdout",
     "output_type": "stream",
     "text": [
      "[9, 8, 7, 6, 3, 2, 5, 1, 4]\n"
     ]
    }
   ],
   "source": [
    "def RS(J: list) -> list:\n",
    "    \"\"\"\n",
    "    Apply a Riffle Shuffle to a list to produce a new list\n",
    "    \n",
    "    Parameters\n",
    "    ----------\n",
    "      J : list\n",
    "        List on which we apply the Riffle Shuffle\n",
    "\n",
    "    Returns\n",
    "    ----------\n",
    "      R : list\n",
    "        Riffle Shuffle result applied on J\n",
    "    \"\"\"\n",
    "    J = list(J)\n",
    "    R = []\n",
    "    # Step 1\n",
    "    n = len(J)\n",
    "    k = np.random.binomial(n, 1/2)\n",
    "    split1 = J[:k] \n",
    "    split2 = J[k:]\n",
    "    \n",
    "    # Step 2\n",
    "    while split1 or split2: # Until the 2 packs are sold out\n",
    "      n1 = len(split1)\n",
    "      n2 = len(split2)\n",
    "\n",
    "      p1 = n1/(n1+n2) # Probability of choosing in split1\n",
    "      p2 = n2/(n1+n2) # Probability of choosing in split2\n",
    "\n",
    "      chosen_list = np.random.choice(['split1', 'split2'], p=[p1, p2]) # Choose one of the two packages according to the probability\n",
    "      if chosen_list == 'split1':\n",
    "        popped = split1.pop()\n",
    "        R.append(popped) # Add the first element of split1 in R\n",
    "      elif chosen_list == 'split2':\n",
    "        popped = split2.pop()\n",
    "        R.append(popped) # Add the first element of split2 in R\n",
    "    \n",
    "    return R\n",
    "\n",
    "# ---------- TEST ---------- #\n",
    "testList1 = [1, 2, 3, 4, 5, 6, 7, 8, 9]\n",
    "print(RS(testList1))\n",
    "# ---------- TEST ---------- #"
   ]
  },
  {
   "attachments": {},
   "cell_type": "markdown",
   "metadata": {},
   "source": [
    "---"
   ]
  },
  {
   "cell_type": "markdown",
   "metadata": {},
   "source": [
    "2. Ecrire une fonction **Trajectoire** qui s'applique à un objet de type **list**, appelé **J0** et à un **int** appelé **T**, qui renvoie un objet de type **list**, de longueur **T+1**, dont le premier élément est **J0** et dont les éléments se déduisent successivement les uns des autres par application de **RS**."
   ]
  },
  {
   "cell_type": "code",
   "execution_count": 3,
   "metadata": {},
   "outputs": [
    {
     "name": "stdout",
     "output_type": "stream",
     "text": [
      "[[1 2 3 4]\n",
      " [2 4 3 1]\n",
      " [4 1 2 3]\n",
      " [1 3 2 4]\n",
      " [4 2 1 3]\n",
      " [4 3 1 2]\n",
      " [1 3 2 4]\n",
      " [3 4 2 1]\n",
      " [1 2 4 3]]\n"
     ]
    }
   ],
   "source": [
    "def Trajectoire(J0: list, T: int, shuffle=RS) -> np.ndarray:\n",
    "    \"\"\"\n",
    "    Application of a trajectory on a list leaving a list whose first element is this \n",
    "    one and whose following elements are deduced successively by application of RS\n",
    "\n",
    "    Parameters\n",
    "    ----------\n",
    "        J0 : list\n",
    "            List in which we apply the trajectory (it also corresponds to the first element of the output list)\n",
    "\n",
    "        T : int\n",
    "            Range of the trajectory\n",
    "            \n",
    "        shuffle : function\n",
    "            Function used to shuffle the list (default is RS)\n",
    "\n",
    "    Returns\n",
    "    ----------\n",
    "        Tab : np.ndarray\n",
    "            The final np array after applying the trajectory (numpy)\n",
    "    \"\"\"\n",
    "    J0 = list(J0)\n",
    "    Tab = [J0]\n",
    "    #print(Tab)\n",
    "    for i in range(T): # And not T+1 because J0 is the first element of the list\n",
    "        Tab.append(shuffle(Tab[i]))\n",
    "    return np.asarray(Tab)\n",
    "\n",
    "# ---------- TEST ---------- #\n",
    "testList2 = [1, 2, 3, 4]\n",
    "T = 8\n",
    "print(Trajectoire(testList2, T))\n",
    "# ---------- TEST ---------- #"
   ]
  },
  {
   "attachments": {},
   "cell_type": "markdown",
   "metadata": {},
   "source": [
    "---"
   ]
  },
  {
   "attachments": {},
   "cell_type": "markdown",
   "metadata": {},
   "source": [
    "#### LES QUESTIONS 3 ET 4 SONT TRAITÉS EN MÊME TEMPS"
   ]
  },
  {
   "attachments": {},
   "cell_type": "markdown",
   "metadata": {},
   "source": [
    "3. On a donc une fonction qui, à un ordre initial, que l'on choisira ```python: J0=range(n)```, pour $n = 52$, associe la suite $J0, J1 = RS(J0),...,J_{(t-1)} = RS(J_t),...,J_T$, de ses riffle shuffle successifs. On cherche à mesurer comment la loi de $J_t$ se rapproche de la loi uniforme sur l'ensemble des permutations de {$0,...,n-1$} lorsque $t$ augmente. Si la loi de $J_t$ était la loi uniforme sur l'ensemble des permutations de {$0,...,n-1$}, alors la loi de chaque coordonnée de $J_t(k)$ serait la loi uniforme sur {$0,...,n-1$}, càd que l'on aurait, pour tous $k$, $i$,\n",
    "\n",
    "$$\\mathbb{P}(J_t(k) = i) = \\frac{1}{n}$$\n",
    "\n",
    "On va alors mesurer le caractère uniforme de la distribution de $J_t$ avec l'indicateur :\n",
    "\n",
    "$$I(J_t) := \\max(\\lvert n*P(J_t(k) = i) -1 \\rvert, (k, i) \\in (0,...,n-1)^2)$$\n",
    "\n",
    "Calculer, pour $n = 52$, $T = 10$, une estimation de $\\hat{I}(J_t)$ pour $t \\in (0,...,T)$, afficher le graphe de $\\hat{I}(J_t)$ en fonction de $t$ et donner le t minimal permettant d'avoir $I(J_t) < 1$ (si un tel $t$ est trouvé).\n",
    "\n",
    "*Indication :* Pour estimer $\\mathbb{P}(J_t(k) = i)$, on simulera un grand nombre de trajectoires et on pourra utiliser, par exemple, la fonction ```python: np.bincount```."
   ]
  },
  {
   "attachments": {},
   "cell_type": "markdown",
   "metadata": {},
   "source": [
    "4. Pour $J_(unif)$ une permutation aléatoire uniforme de ```python: J0=range(n)```, on a $I(J_(unif)) = 0$. Néanmoins, ce à quoi il est légitime de comparer les estimations $\\hat{I}(J_t)$ n'est pas $I(J_(unif))$ mais l'estimation $\\hat{I}(J_(unif))$ obtenue avec un échantillon de même taille de permutations aléatoires uniformes indépendantes. Dans le même programme, calculer cette estimation $\\hat{I}(J_(unif))$ et faire apparaître, sur le graphique précédent, une ligne horizontale d'ordonnée $\\hat{I}(J_(unif))$.\n",
    "\n",
    "*Indication :* Pour simuler des permutations aléatoires uniformes indépendantes, on pourra utiliser ```python: np.randon.shuffle```."
   ]
  },
  {
   "cell_type": "code",
   "execution_count": 5,
   "metadata": {},
   "outputs": [
    {
     "name": "stdout",
     "output_type": "stream",
     "text": [
      "Valeur de t minimum pour I(Jt) < 1 :  2\n"
     ]
    },
    {
     "data": {
      "image/png": "[encoded data removed]",
      "text/plain": [
       "<Figure size 432x288 with 1 Axes>"
      ]
     },
     "metadata": {
      "needs_background": "light"
     },
     "output_type": "display_data"
    }
   ],
   "source": [
    "# ---------- VALEURS ---------- #\n",
    "n = 52\n",
    "J0 = range(n)\n",
    "Ju = np.arange(n)\n",
    "T = 10\n",
    "Tk = 1000\n",
    "J = Trajectoire(J0, T)\n",
    "# ---------- VALEURS ---------- #\n",
    "\n",
    "# ---------- QUESTIONS 3 / 4 ---------- #\n",
    "I_Values = []\n",
    "for Jt in J:\n",
    "    Jt = Trajectoire(Jt, Tk)\n",
    "    P = np.asarray([np.bincount(Jt[:, k], minlength=n)/Tk for k in range(n)])\n",
    "    Pu = np.asarray([np.bincount(Ju, minlength=n)/n for k in range(n)])\n",
    "    I_Values.append(np.max(np.abs(n * P - 1)))\n",
    "    \n",
    "    np.random.shuffle(Ju) # Uniform random permutations\n",
    "\n",
    "t = np.where(I_Values[np.argmin(I_Values)] < 1, np.argmin(I_Values), None) # Minimal t\n",
    "print(\"Valeur de t minimum pour I(Jt) < 1 : \", t)\n",
    "\n",
    "I_u = np.max(np.abs(n * Pu - 1))\n",
    "# ---------- QUESTIONS 3 / 4 ---------- #\n",
    "\n",
    "# ---------- GRAPHIC ---------- #\n",
    "plt.plot(I_Values, label = 'I(Jt)')\n",
    "plt.axvline(t, color = 'r', label = 't Minmimal pour I(Jt) < 1')\n",
    "plt.axhline(I_u, color = 'g', label = 'J Uniforme')\n",
    "plt.xlabel(\"t\")\n",
    "plt.ylabel(\"I(Jt)\")\n",
    "plt.legend() \n",
    "plt.show()\n",
    "# ---------- GRAPHIC ---------- #"
   ]
  }
 ],
 "metadata": {
  "kernelspec": {
   "display_name": "Python 3",
   "language": "python",
   "name": "python3"
  },
  "language_info": {
   "codemirror_mode": {
    "name": "ipython",
    "version": 3
   },
   "file_extension": ".py",
   "mimetype": "text/x-python",
   "name": "python",
   "nbconvert_exporter": "python",
   "pygments_lexer": "ipython3",
   "version": "3.8.10 (default, Nov 14 2022, 12:59:47) \n[GCC 9.4.0]"
  },
  "orig_nbformat": 4,
  "vscode": {
   "interpreter": {
    "hash": "916dbcbb3f70747c44a77c7bcd40155683ae19c65e1c03b4aa3499c5328201f1"
   }
  }
 },
 "nbformat": 4,
 "nbformat_minor": 2
}
